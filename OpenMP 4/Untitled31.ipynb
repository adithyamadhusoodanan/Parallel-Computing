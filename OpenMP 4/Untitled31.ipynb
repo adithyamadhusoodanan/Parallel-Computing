{
  "nbformat": 4,
  "nbformat_minor": 0,
  "metadata": {
    "colab": {
      "name": "Untitled31.ipynb",
      "provenance": [],
      "collapsed_sections": []
    },
    "kernelspec": {
      "name": "python3",
      "display_name": "Python 3"
    }
  },
  "cells": [
    {
      "cell_type": "code",
      "metadata": {
        "id": "EQWyADHLPT2Z"
      },
      "source": [
        "!gcc -fopenmp q1.c"
      ],
      "execution_count": 40,
      "outputs": []
    },
    {
      "cell_type": "code",
      "metadata": {
        "colab": {
          "base_uri": "https://localhost:8080/"
        },
        "id": "aW0W3E6ySP50",
        "outputId": "479fa3b7-3ec9-40a7-8298-adcf2238e986"
      },
      "source": [
        ""
      ],
      "execution_count": 66,
      "outputs": [
        {
          "output_type": "stream",
          "text": [
            "\n",
            "\n",
            "\tTime in Seconds (T) : 0.001833\n",
            "\n",
            " \n",
            " Minimum is 0\n",
            "\n",
            "\n",
            "\n",
            "\tTime in Seconds (T) : 0.014239\n",
            "\n",
            " \n",
            " Minimum is 0\n",
            "\n"
          ],
          "name": "stdout"
        }
      ]
    },
    {
      "cell_type": "code",
      "metadata": {
        "id": "guVtPVwvS_ml"
      },
      "source": [
        "!gcc -fopenmp q2.c"
      ],
      "execution_count": 11,
      "outputs": []
    },
    {
      "cell_type": "code",
      "metadata": {
        "id": "sZQ5e6AKVAcr"
      },
      "source": [
        "!gcc -fopenmp q3.c"
      ],
      "execution_count": 120,
      "outputs": []
    },
    {
      "cell_type": "code",
      "metadata": {
        "id": "y8KInMEuleNj"
      },
      "source": [
        "!./a.out"
      ],
      "execution_count": null,
      "outputs": []
    },
    {
      "cell_type": "code",
      "metadata": {
        "id": "hbNw2nJCg5bT"
      },
      "source": [
        "0.006520"
      ],
      "execution_count": null,
      "outputs": []
    },
    {
      "cell_type": "code",
      "metadata": {
        "id": "EBxLD453wmYP"
      },
      "source": [
        ""
      ],
      "execution_count": null,
      "outputs": []
    }
  ]
}